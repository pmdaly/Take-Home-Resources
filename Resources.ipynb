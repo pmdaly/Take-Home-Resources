{
 "cells": [
  {
   "cell_type": "markdown",
   "metadata": {},
   "source": [
    "# Common tools for challenges\n",
    "- EDA\n",
    "- Graphs\n",
    "- Custom functions\n",
    "- Model evaluation frameworks\n",
    "- etc"
   ]
  },
  {
   "cell_type": "markdown",
   "metadata": {},
   "source": [
    "### Basic imports"
   ]
  },
  {
   "cell_type": "code",
   "execution_count": null,
   "metadata": {
    "collapsed": true
   },
   "outputs": [],
   "source": [
    "# never leave home w/o em\n",
    "import pandas as pd\n",
    "import numpy as np\n",
    "\n",
    "# model evaluation\n",
    "from sklearn import metrics, cross_validtion\n",
    "from sklearn.metrics import confusion_matrix\n",
    "from sklearn.cross_validation import train_test_split\n",
    "from sklearn.grid_search import GridSearchCV\n",
    "\n",
    "# general plotting\n",
    "import seaborn as sns\n",
    "sns.set(context='paper', font='fantasy')\n",
    "import matplotlib.pyplot as plt\n",
    "%matplotlib inline"
   ]
  },
  {
   "cell_type": "markdown",
   "metadata": {},
   "source": [
    "### EDA type stuff"
   ]
  },
  {
   "cell_type": "code",
   "execution_count": null,
   "metadata": {
    "collapsed": true
   },
   "outputs": [],
   "source": [
    "# assume df is your dataframe\n",
    "\n",
    "# sample is a nice drop in replacement for head / tail\n",
    "df.sample(10)\n",
    "\n",
    "# always use these guys\n",
    "df.describe()\n",
    "df.info()\n",
    "\n",
    "# built in pandas plotting\n",
    "df.hist()"
   ]
  },
  {
   "cell_type": "markdown",
   "metadata": {},
   "source": [
    "### Graphing"
   ]
  },
  {
   "cell_type": "code",
   "execution_count": null,
   "metadata": {
    "collapsed": true
   },
   "outputs": [],
   "source": [
    "# overlapping 2 histograms on the same plot\n",
    "fig, axs = plt.subplots()\n",
    "\n",
    "axs.hist(df.feature_1, label='feat_1', alpha=0.75);\n",
    "axs.hist(df.feature_2, label='feat_2', alpha=0.75);\n",
    "axs.legend();\n",
    "axs.set_title('stuff')\n",
    "\n",
    "# 4 figures in a window arrangement\n",
    "fig = plt.figure()\n",
    "ax1 = fig.add_subplot(221)\n",
    "ax1.set_ylabel('Upper Left Row Label', rotation=0, size='large')\n",
    "ax1.set_title('Left Column Label', rotation=0, size='large')\n",
    "...\n",
    "\n",
    "ax2 = fig.add_subplot(222)\n",
    "ax2.set_title('Right Column Label', rotation=0, size='largel')\n",
    "...\n",
    "\n",
    "ax3 = fig.add_subplot(223)\n",
    "ax3.set_ylabel('Lower Left Row Label', rotation=0, size='large')\n",
    "...\n",
    "\n",
    "ax4 = fig.add_subplot(224)\n",
    "\n",
    "plt.tight_layout()\n",
    "\n"
   ]
  }
 ],
 "metadata": {
  "anaconda-cloud": {},
  "kernelspec": {
   "display_name": "Python [conda root]",
   "language": "python",
   "name": "conda-root-py"
  },
  "language_info": {
   "codemirror_mode": {
    "name": "ipython",
    "version": 3
   },
   "file_extension": ".py",
   "mimetype": "text/x-python",
   "name": "python",
   "nbconvert_exporter": "python",
   "pygments_lexer": "ipython3",
   "version": "3.5.2"
  }
 },
 "nbformat": 4,
 "nbformat_minor": 1
}
